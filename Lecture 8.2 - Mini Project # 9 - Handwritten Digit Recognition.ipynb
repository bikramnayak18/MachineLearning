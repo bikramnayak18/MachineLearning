{
 "cells": [
  {
   "cell_type": "markdown",
   "metadata": {},
   "source": [
    "## Mini Project # 9 - Handwritten Digit Recognition"
   ]
  },
  {
   "cell_type": "markdown",
   "metadata": {},
   "source": [
    "### Data Prep, Training and Evaluation"
   ]
  },
  {
   "cell_type": "code",
   "execution_count": 91,
   "metadata": {
    "collapsed": false
   },
   "outputs": [],
   "source": [
    "import numpy as np\n",
    "import cv2\n",
    "\n",
    "# Let's take a look at our digits dataset\n",
    "file = 'D:/bikram/machine learning/PracticeSets/sudoku/sudoku.png'\n",
    "image = cv2.imread(file)\n",
    "ret,thresh1 = cv2.threshold(image,127,255,cv2.THRESH_BINARY)\n",
    "cv2.imwrite('D:/bikram/machine learning/PracticeSets/sudoku/BinarySudoku.png',thresh1)\n",
    "file = 'D:/bikram/machine learning/PracticeSets/sudoku/BinarySudoku.png'\n",
    "image_slicer.slice(file, 9*9)\n",
    "image = cv2.imread(file)\n",
    "#gray = cv2.cvtColor(image,cv2.COLOR_BGR2GRAY)\n",
    "#cv2.imshow('large image', gray)\n",
    "#small = cv2.pyrDown(image)\n",
    "#cv2.imshow('Digits Image', small)\n",
    "\n",
    "#cv2.waitKey(0)\n",
    "#cv2.destroyAllWindows()\n",
    "\n",
    "\n"
   ]
  },
  {
   "cell_type": "code",
   "execution_count": 25,
   "metadata": {
    "collapsed": false
   },
   "outputs": [
    {
     "data": {
      "text/plain": [
       "(20, 20)"
      ]
     },
     "execution_count": 25,
     "metadata": {},
     "output_type": "execute_result"
    }
   ],
   "source": [
    "import image_slicer\n",
    "#file = 'D:/bikram/machine learning/PracticeSets/sudoku/sudoku.png'\n",
    "#image_slicer.slice(file, 9*9)\n",
    "fileTemp = 'D:/bikram/machine learning/PracticeSets/sudoku/sudoku_01_04.png'\n",
    "\n",
    "image = cv2.imread(fileTemp)\n",
    "gray = cv2.cvtColor(image,cv2.COLOR_BGR2GRAY)\n",
    "redImg = cv2.resize(gray,(20,20))\n",
    "cv2.imshow(\"20*20 Image\",redImg)\n",
    "cv2.waitKey(0)\n",
    "cv2.destroyAllWindows()\n",
    "redImg.shape"
   ]
  },
  {
   "cell_type": "code",
   "execution_count": 3,
   "metadata": {
    "collapsed": false
   },
   "outputs": [
    {
     "name": "stdout",
     "output_type": "stream",
     "text": [
      "The shape of our cells array: (50, 100, 20, 20)\n",
      "(3500, 400) (3500, 1)\n"
     ]
    }
   ],
   "source": [
    "import cv2\n",
    "import numpy as np\n",
    "file = 'D:/bikram/machine learning/PracticeSets/sudoku/digits.png'\n",
    "image = cv2.imread(file)\n",
    "gray = cv2.cvtColor(image,cv2.COLOR_BGR2GRAY)\n",
    "small = cv2.pyrDown(image)\n",
    "#cv2.imshow('Digits Image', small)\n",
    "\n",
    "#cv2.waitKey(0)\n",
    "#cv2.destroyAllWindows()\n",
    "# Split the image to 5000 cells, each 20x20 size\n",
    "# This gives us a 4-dim array: 50 x 100 x 20 x 20\n",
    "cells = [np.hsplit(row,100) for row in np.vsplit(gray,50)]\n",
    "\n",
    "# Convert the List data type to Numpy Array of shape (50,100,20,20)\n",
    "x = np.array(cells)\n",
    "print (\"The shape of our cells array: \" + str(x.shape))\n",
    "\n",
    "# Split the full data set into two segments\n",
    "# One will be used fro Training the model, the other as a test data set\n",
    "train = x[:,:70].reshape(-1,400).astype(np.float32) # Size = (3500,400)\n",
    "test = x[:,70:100].reshape(-1,400).astype(np.float32) # Size = (1500,400)\n",
    "# Create labels for train and test data\n",
    "k = [0,1,2,3,4,5,6,7,8,9]\n",
    "train_labels = np.repeat(k,350)[:,np.newaxis]\n",
    "test_labels = np.repeat(k,150)[:,np.newaxis]\n",
    "print(train.shape,train_labels.shape)\n"
   ]
  },
  {
   "cell_type": "code",
   "execution_count": 4,
   "metadata": {
    "collapsed": false
   },
   "outputs": [
    {
     "name": "stderr",
     "output_type": "stream",
     "text": [
      "C:\\Users\\deepa.amasar\\AppData\\Local\\Continuum\\Anaconda_3\\lib\\site-packages\\ipykernel\\__main__.py:8: DataConversionWarning: A column-vector y was passed when a 1d array was expected. Please change the shape of y to (n_samples, ), for example using ravel().\n"
     ]
    },
    {
     "data": {
      "text/plain": [
       "KNeighborsClassifier(algorithm='auto', leaf_size=30, metric='minkowski',\n",
       "           metric_params=None, n_jobs=None, n_neighbors=3, p=2,\n",
       "           weights='uniform')"
      ]
     },
     "execution_count": 4,
     "metadata": {},
     "output_type": "execute_result"
    }
   ],
   "source": [
    "# Initiate kNN, train the data, then test it with test data for k=3\n",
    "from sklearn.model_selection import  train_test_split\n",
    "from sklearn.neighbors import KNeighborsClassifier\n",
    "#knn = cv2.ml.KNearest_create()\n",
    "#knn.train(train, train_labels)\n",
    "#ret, result, neighbors, distance = knn.find_nearest(test, k=3)\n",
    "knn = KNeighborsClassifier(n_neighbors=3)\n",
    "knn.fit(train, train_labels)\n",
    "# Now we check the accuracy of classification\n",
    "# For that, compare the result with test_labels and check which are wrong\n"
   ]
  },
  {
   "cell_type": "code",
   "execution_count": 5,
   "metadata": {
    "collapsed": false
   },
   "outputs": [
    {
     "name": "stdout",
     "output_type": "stream",
     "text": [
      "Accuracy is = 0.93%\n"
     ]
    }
   ],
   "source": [
    "model_score = knn.score(test, test_labels)\n",
    "\n",
    "print(\"Accuracy is = %.2f\" % model_score + \"%\")"
   ]
  },
  {
   "cell_type": "code",
   "execution_count": 7,
   "metadata": {
    "collapsed": false
   },
   "outputs": [
    {
     "name": "stdout",
     "output_type": "stream",
     "text": [
      "1 0.666666666667\n"
     ]
    }
   ],
   "source": [
    "def predict(df):\n",
    "    predict = knn.predict(df.reshape(1,-1))[0]\n",
    "    predict_proba = knn.predict_proba(df.reshape(1,-1))\n",
    "    #print(\"probs\",predict_proba)\n",
    "    return predict, predict_proba[0][predict]\n",
    "fileTemp = 'D:/bikram/machine learning/PracticeSets/sudoku/sudoku_01_01.png'\n",
    "\n",
    "image = cv2.imread(fileTemp)\n",
    "gray = cv2.cvtColor(image,cv2.COLOR_BGR2GRAY)\n",
    "redImg =255- cv2.resize(gray,(20,20))\n",
    "cv2.imshow(\"20*20 Image\",redImg)\n",
    "cv2.waitKey(0)\n",
    "cv2.destroyAllWindows()\n",
    "x,y = predict(redImg)\n",
    "print(x,y)"
   ]
  },
  {
   "cell_type": "code",
   "execution_count": 6,
   "metadata": {
    "collapsed": false
   },
   "outputs": [
    {
     "ename": "NameError",
     "evalue": "name 'predict' is not defined",
     "output_type": "error",
     "traceback": [
      "\u001b[0;31m---------------------------------------------------------------------------\u001b[0m",
      "\u001b[0;31mNameError\u001b[0m                                 Traceback (most recent call last)",
      "\u001b[0;32m<ipython-input-6-5b05e861710d>\u001b[0m in \u001b[0;36m<module>\u001b[0;34m()\u001b[0m\n\u001b[1;32m      9\u001b[0m \u001b[0mcv2\u001b[0m\u001b[1;33m.\u001b[0m\u001b[0mdestroyAllWindows\u001b[0m\u001b[1;33m(\u001b[0m\u001b[1;33m)\u001b[0m\u001b[1;33m\u001b[0m\u001b[0m\n\u001b[1;32m     10\u001b[0m \u001b[1;33m\u001b[0m\u001b[0m\n\u001b[0;32m---> 11\u001b[0;31m \u001b[0mx\u001b[0m\u001b[1;33m,\u001b[0m\u001b[0my\u001b[0m \u001b[1;33m=\u001b[0m \u001b[0mpredict\u001b[0m\u001b[1;33m(\u001b[0m\u001b[0mredImg\u001b[0m\u001b[1;33m)\u001b[0m\u001b[1;33m\u001b[0m\u001b[0m\n\u001b[0m\u001b[1;32m     12\u001b[0m \u001b[0mprint\u001b[0m\u001b[1;33m(\u001b[0m\u001b[0mx\u001b[0m\u001b[1;33m,\u001b[0m\u001b[0my\u001b[0m\u001b[1;33m)\u001b[0m\u001b[1;33m\u001b[0m\u001b[0m\n\u001b[1;32m     13\u001b[0m \u001b[0mprint\u001b[0m\u001b[1;33m(\u001b[0m\u001b[0mnp\u001b[0m\u001b[1;33m.\u001b[0m\u001b[0mcount_nonzero\u001b[0m\u001b[1;33m(\u001b[0m\u001b[0mredImg\u001b[0m\u001b[1;33m)\u001b[0m\u001b[1;33m)\u001b[0m\u001b[1;33m\u001b[0m\u001b[0m\n",
      "\u001b[0;31mNameError\u001b[0m: name 'predict' is not defined"
     ]
    }
   ],
   "source": [
    "fileTemp = 'D:/bikram/machine learning/PracticeSets/sudoku/BinarySudoku_01_03.png'\n",
    "\n",
    "image = cv2.imread(fileTemp)\n",
    "gray = cv2.cvtColor(image,cv2.COLOR_BGR2GRAY)\n",
    "\n",
    "redImg =255- cv2.resize(gray[2:-3,2:-3],(20,20))\n",
    "cv2.imshow(\"20*20 Image\",redImg)\n",
    "cv2.waitKey(0)\n",
    "cv2.destroyAllWindows()\n",
    "\n",
    "x,y = predict(redImg)\n",
    "print(x,y)\n",
    "print(np.count_nonzero(redImg))\n",
    "redImg"
   ]
  },
  {
   "cell_type": "code",
   "execution_count": 9,
   "metadata": {
    "collapsed": false
   },
   "outputs": [
    {
     "name": "stdout",
     "output_type": "stream",
     "text": [
      "_ _ _ 7 4 _ 7 _ 1 \n",
      "\n",
      "1 9 _ _ 7 _ _ 7 _ \n",
      "\n",
      "7 2 _ _ _ 4 5 _ _ \n",
      "\n",
      "9 5 _ 7 _ _ _ 4 _ \n",
      "\n",
      "_ _ 1 5 _ 7 9 _ _ \n",
      "\n",
      "_ 3 _ _ _ 3 _ 2 3 \n",
      "\n",
      "_ _ 0 3 _ _ _ 1 7 \n",
      "\n",
      "_ 4 _ _ 5 _ _ 3 3 \n",
      "\n",
      "2 _ 2 _ 2 3 _ _ _ \n",
      "\n"
     ]
    }
   ],
   "source": [
    "np.count_nonzero(redImg)\n",
    "fileTemp = 'D:/bikram/machine learning/PracticeSets/sudoku/BinarySudoku_'\n",
    "for i in range(1,10,1):\n",
    "    for j in range(1,10,1):\n",
    "        name = '0'+str(i)+'_0'+str(j)+'.png'\n",
    "        file = fileTemp + name\n",
    "        image = cv2.imread(file)\n",
    "        gray = cv2.cvtColor(image,cv2.COLOR_BGR2GRAY)\n",
    "        redImg =255- cv2.resize(gray[2:-3,2:-3],(20,20))\n",
    "        #print(file,np.count_nonzero0(redImg))\n",
    "        if(np.count_nonzero(redImg)>20):\n",
    "            #cv2.imshow(name,redImg)\n",
    "            x,y = predict(redImg)\n",
    "            print(x,end=' ')\n",
    "        else:\n",
    "            print('_',end=' ')\n",
    "    print('\\n')\n",
    "fileTemp = 'D:/bikram/machine learning/PracticeSets/sudoku/BinarySudoku.png'\n",
    "image = cv2.imread(fileTemp)   \n",
    "cv2.imshow(\"20*20 Image\",image)\n",
    "cv2.waitKey(0)\n",
    "cv2.destroyAllWindows()\n"
   ]
  },
  {
   "cell_type": "code",
   "execution_count": 24,
   "metadata": {
    "collapsed": false
   },
   "outputs": [
    {
     "name": "stdout",
     "output_type": "stream",
     "text": [
      "_ _ _ _ _ _ _ _ _ \n",
      "\n",
      "_ 7 7 _ 4 4 3 6 7 \n",
      "\n",
      "_ 4 2 5 _ 6 7 9 5 \n",
      "\n",
      "_ _ 7 _ 3 9 7 _ 4 \n",
      "\n",
      "_ _ 9 9 _ _ _ _ 7 \n",
      "\n",
      "_ 7 _ _ _ 7 _ 5 _ \n",
      "\n",
      "_ _ 7 7 _ 3 _ 7 5 \n",
      "\n",
      "_ 9 _ _ 4 _ 7 _ _ \n",
      "\n",
      "7 _ 7 _ 3 3 4 7 3 \n",
      "\n"
     ]
    }
   ],
   "source": [
    "import image_slicer\n",
    "file = 'D:/bikram/machine learning/PracticeSets/sudoku/'\n",
    "name = 'sudoku3.png'\n",
    "image = cv2.imread(file+name)\n",
    "ret,thresh1 = cv2.threshold(image,127,255,cv2.THRESH_BINARY)\n",
    "name = 'BinarySudoku3.png'\n",
    "cv2.imwrite(file+name,thresh1)\n",
    "#image_slicer.slice(file+name, 9*9)\n",
    "\n",
    "fileTemp = 'D:/bikram/machine learning/PracticeSets/sudoku/BinarySudoku3_'\n",
    "inputArr = [[0]*9 for i in range(0,9)]\n",
    "for i in range(1,10,1):\n",
    "    for j in range(1,10,1):\n",
    "        name = '0'+str(i)+'_0'+str(j)+'.png'\n",
    "        file = fileTemp + name\n",
    "        image = cv2.imread(file)\n",
    "        gray = cv2.cvtColor(image,cv2.COLOR_BGR2GRAY)\n",
    "        redImg =255- cv2.resize(gray[2:-3,2:-3],(20,20))\n",
    "        #print(file,np.count_nonzero0(redImg))\n",
    "        if(np.count_nonzero(redImg)>20):\n",
    "            #cv2.imshow(name,redImg)\n",
    "            x,y = predict(redImg)\n",
    "            print(x,end=' ')\n",
    "            inputArr[i-1][j-1] = x\n",
    "        else:\n",
    "            print('_',end=' ')\n",
    "            \n",
    "    print('\\n')"
   ]
  },
  {
   "cell_type": "code",
   "execution_count": 25,
   "metadata": {
    "collapsed": false
   },
   "outputs": [
    {
     "data": {
      "text/plain": [
       "[[0, 0, 0, 0, 0, 0, 0, 0, 0],\n",
       " [0, 7, 7, 0, 4, 4, 3, 6, 7],\n",
       " [0, 4, 2, 5, 0, 6, 7, 9, 5],\n",
       " [0, 0, 7, 0, 3, 9, 7, 0, 4],\n",
       " [0, 0, 9, 9, 0, 0, 0, 0, 7],\n",
       " [0, 7, 0, 0, 0, 7, 0, 5, 0],\n",
       " [0, 0, 7, 7, 0, 3, 0, 7, 5],\n",
       " [0, 9, 0, 0, 4, 0, 7, 0, 0],\n",
       " [7, 0, 7, 0, 3, 3, 4, 7, 3]]"
      ]
     },
     "execution_count": 25,
     "metadata": {},
     "output_type": "execute_result"
    }
   ],
   "source": [
    "inputArr"
   ]
  },
  {
   "cell_type": "code",
   "execution_count": 26,
   "metadata": {
    "collapsed": false
   },
   "outputs": [
    {
     "name": "stdout",
     "output_type": "stream",
     "text": [
      "000000000\n",
      "\n",
      "077044367\n",
      "\n",
      "042506795\n",
      "\n",
      "007039704\n",
      "\n",
      "009900007\n",
      "\n",
      "070007050\n",
      "\n",
      "007703075\n",
      "\n",
      "090040700\n",
      "\n",
      "707033473\n",
      "\n",
      "956371248\n",
      "\n",
      "177244367\n",
      "\n",
      "342586795\n",
      "\n",
      "217639784\n",
      "\n",
      "439915627\n",
      "\n",
      "678427159\n",
      "\n",
      "827763975\n",
      "\n",
      "593842716\n",
      "\n",
      "767133473\n",
      "\n"
     ]
    }
   ],
   "source": [
    "def print_grid(arr): \n",
    "    for i in range(9): \n",
    "        for j in range(9): \n",
    "            print (arr[i][j],end='') \n",
    "        print ('\\n') \n",
    "  \n",
    "          \n",
    "# Function to Find the entry in the Grid that is still  not used \n",
    "# Searches the grid to find an entry that is still unassigned. If \n",
    "# found, the reference parameters row, col will be set the location \n",
    "# that is unassigned, and true is returned. If no unassigned entries \n",
    "# remain, false is returned. \n",
    "# 'l' is a list  variable that has been passed from the solve_sudoku function \n",
    "# to keep track of incrementation of Rows and Columns \n",
    "def find_empty_location(arr,l): \n",
    "    for row in range(9): \n",
    "        for col in range(9): \n",
    "            if(arr[row][col]==0): \n",
    "                l[0]=row \n",
    "                l[1]=col \n",
    "                return True\n",
    "    return False\n",
    "  \n",
    "# Returns a boolean which indicates whether any assigned entry \n",
    "# in the specified row matches the given number. \n",
    "def used_in_row(arr,row,num): \n",
    "    for i in range(9): \n",
    "        if(arr[row][i] == num): \n",
    "            return True\n",
    "    return False\n",
    "  \n",
    "# Returns a boolean which indicates whether any assigned entry \n",
    "# in the specified column matches the given number. \n",
    "def used_in_col(arr,col,num): \n",
    "    for i in range(9): \n",
    "        if(arr[i][col] == num): \n",
    "            return True\n",
    "    return False\n",
    "  \n",
    "# Returns a boolean which indicates whether any assigned entry \n",
    "# within the specified 3x3 box matches the given number \n",
    "def used_in_box(arr,row,col,num): \n",
    "    for i in range(3): \n",
    "        for j in range(3): \n",
    "            if(arr[i+row][j+col] == num): \n",
    "                return True\n",
    "    return False\n",
    "  \n",
    "# Checks whether it will be legal to assign num to the given row,col \n",
    "#  Returns a boolean which indicates whether it will be legal to assign \n",
    "#  num to the given row,col location. \n",
    "def check_location_is_safe(arr,row,col,num): \n",
    "      \n",
    "    # Check if 'num' is not already placed in current row, \n",
    "    # current column and current 3x3 box \n",
    "    return not used_in_row(arr,row,num) and not used_in_col(arr,col,num) and not used_in_box(arr,row - row%3,col - col%3,num) \n",
    "  \n",
    "# Takes a partially filled-in grid and attempts to assign values to \n",
    "# all unassigned locations in such a way to meet the requirements \n",
    "# for Sudoku solution (non-duplication across rows, columns, and boxes) \n",
    "def solve_sudoku(arr): \n",
    "      \n",
    "    # 'l' is a list variable that keeps the record of row and col in find_empty_location Function     \n",
    "    l=[0,0] \n",
    "      \n",
    "    # If there is no unassigned location, we are done     \n",
    "    if(not find_empty_location(arr,l)): \n",
    "        return True\n",
    "      \n",
    "    # Assigning list values to row and col that we got from the above Function  \n",
    "    row=l[0] \n",
    "    col=l[1] \n",
    "      \n",
    "    # consider digits 1 to 9 \n",
    "    for num in range(1,10): \n",
    "          \n",
    "        # if looks promising \n",
    "        if(check_location_is_safe(arr,row,col,num)): \n",
    "              \n",
    "            # make tentative assignment \n",
    "            arr[row][col]=num \n",
    "  \n",
    "            # return, if sucess, ya! \n",
    "            if(solve_sudoku(arr)): \n",
    "                return True\n",
    "  \n",
    "            # failure, unmake & try again \n",
    "            arr[row][col] = 0\n",
    "              \n",
    "    # this triggers backtracking         \n",
    "    return False \n",
    "\n",
    "grid=[[3,0,6,5,0,8,4,0,0], \n",
    "          [5,2,0,0,0,0,0,0,0], \n",
    "          [0,8,7,0,0,0,0,3,1], \n",
    "          [0,0,3,0,1,0,0,8,0], \n",
    "          [9,0,0,8,6,3,0,0,5], \n",
    "          [0,5,0,0,9,0,6,0,0], \n",
    "          [1,3,0,0,0,0,2,5,0], \n",
    "          [0,0,0,0,0,0,0,7,4], \n",
    "          [0,0,5,2,0,6,3,0,0]] \n",
    "\n",
    "if(solve_sudoku(inputArr)): \n",
    "    print_grid(inputArr) \n",
    "else:\n",
    "    print (\"No solution exists\")\n",
    "        "
   ]
  },
  {
   "cell_type": "markdown",
   "metadata": {},
   "source": [
    "### Defining some functions we will use to prepare an input image"
   ]
  },
  {
   "cell_type": "code",
   "execution_count": 3,
   "metadata": {
    "collapsed": true
   },
   "outputs": [],
   "source": [
    "import numpy as np\n",
    "import cv2\n",
    "\n",
    "# Define our functions\n",
    "\n",
    "def x_cord_contour(contour):\n",
    "    # This function take a contour from findContours\n",
    "    # it then outputs the x centroid coordinates\n",
    "    \n",
    "    if cv2.contourArea(contour) > 10:\n",
    "        M = cv2.moments(contour)\n",
    "        return (int(M['m10']/M['m00']))\n",
    "\n",
    "def makeSquare(not_square):\n",
    "    # This function takes an image and makes the dimenions square\n",
    "    # It adds black pixels as the padding where needed\n",
    "    \n",
    "    BLACK = [0,0,0]\n",
    "    img_dim = not_square.shape\n",
    "    height = img_dim[0]\n",
    "    width = img_dim[1]\n",
    "    #print(\"Height = \", height, \"Width = \", width)\n",
    "    if (height == width):\n",
    "        square = not_square\n",
    "        return square\n",
    "    else:\n",
    "        doublesize = cv2.resize(not_square,(2*width, 2*height), interpolation = cv2.INTER_CUBIC)\n",
    "        height = height * 2\n",
    "        width = width * 2\n",
    "        #print(\"New Height = \", height, \"New Width = \", width)\n",
    "        if (height > width):\n",
    "            pad = (height - width)/2\n",
    "            #print(\"Padding = \", pad)\n",
    "            doublesize_square = cv2.copyMakeBorder(doublesize,0,0,pad,\\\n",
    "                                                   pad,cv2.BORDER_CONSTANT,value=BLACK)\n",
    "        else:\n",
    "            pad = (width - height)/2\n",
    "            #print(\"Padding = \", pad)\n",
    "            doublesize_square = cv2.copyMakeBorder(doublesize,pad,pad,0,0,\\\n",
    "                                                   cv2.BORDER_CONSTANT,value=BLACK)\n",
    "    doublesize_square_dim = doublesize_square.shape\n",
    "    #print(\"Sq Height = \", doublesize_square_dim[0], \"Sq Width = \", doublesize_square_dim[1])\n",
    "    return doublesize_square\n",
    "\n",
    "\n",
    "def resize_to_pixel(dimensions, image):\n",
    "    # This function then re-sizes an image to the specificied dimenions\n",
    "    \n",
    "    buffer_pix = 4\n",
    "    dimensions  = dimensions - buffer_pix\n",
    "    squared = image\n",
    "    r = float(dimensions) / squared.shape[1]\n",
    "    dim = (dimensions, int(squared.shape[0] * r))\n",
    "    resized = cv2.resize(image, dim, interpolation = cv2.INTER_AREA)\n",
    "    img_dim2 = resized.shape\n",
    "    height_r = img_dim2[0]\n",
    "    width_r = img_dim2[1]\n",
    "    BLACK = [0,0,0]\n",
    "    if (height_r > width_r):\n",
    "        resized = cv2.copyMakeBorder(resized,0,0,0,1,cv2.BORDER_CONSTANT,value=BLACK)\n",
    "    if (height_r < width_r):\n",
    "        resized = cv2.copyMakeBorder(resized,1,0,0,0,cv2.BORDER_CONSTANT,value=BLACK)\n",
    "    p = 2\n",
    "    ReSizedImg = cv2.copyMakeBorder(resized,p,p,p,p,cv2.BORDER_CONSTANT,value=BLACK)\n",
    "    img_dim = ReSizedImg.shape\n",
    "    height = img_dim[0]\n",
    "    width = img_dim[1]\n",
    "    #print(\"Padded Height = \", height, \"Width = \", width)\n",
    "    return ReSizedImg"
   ]
  },
  {
   "cell_type": "markdown",
   "metadata": {},
   "source": [
    "## Loading a new image, preprocessing it and classifying the digits"
   ]
  },
  {
   "cell_type": "code",
   "execution_count": 5,
   "metadata": {
    "collapsed": false
   },
   "outputs": [
    {
     "name": "stdout",
     "output_type": "stream",
     "text": [
      "The number is: 13540\n"
     ]
    }
   ],
   "source": [
    "import numpy as np\n",
    "import cv2\n",
    "\n",
    "image = cv2.imread('images/numbers.jpg')\n",
    "gray = cv2.cvtColor(image,cv2.COLOR_BGR2GRAY)\n",
    "cv2.imshow(\"image\", image)\n",
    "cv2.imshow(\"gray\", gray)\n",
    "cv2.waitKey(0)\n",
    "\n",
    "# Blur image then find edges using Canny \n",
    "blurred = cv2.GaussianBlur(gray, (5, 5), 0)\n",
    "cv2.imshow(\"blurred\", blurred)\n",
    "cv2.waitKey(0)\n",
    "\n",
    "edged = cv2.Canny(blurred, 30, 150)\n",
    "cv2.imshow(\"edged\", edged)\n",
    "cv2.waitKey(0)\n",
    "\n",
    "# Fint Contours\n",
    "contours, _ = cv2.findContours(edged.copy(), cv2.RETR_EXTERNAL, cv2.CHAIN_APPROX_SIMPLE)\n",
    "\n",
    "#Sort out contours left to right by using their x cordinates\n",
    "contours = sorted(contours, key = x_cord_contour, reverse = False)\n",
    "\n",
    "# Create empty array to store entire number\n",
    "full_number = []\n",
    "\n",
    "# loop over the contours\n",
    "for c in contours:\n",
    "    # compute the bounding box for the rectangle         \n",
    "    (x, y, w, h) = cv2.boundingRect(c)    \n",
    "    \n",
    "    #cv2.drawContours(image, contours, -1, (0,255,0), 3)\n",
    "    #cv2.imshow(\"Contours\", image)\n",
    "\n",
    "    if w >= 5 and h >= 25:\n",
    "        roi = blurred[y:y + h, x:x + w]\n",
    "        ret, roi = cv2.threshold(roi, 127, 255,cv2.THRESH_BINARY_INV)\n",
    "        squared = makeSquare(roi)\n",
    "        final = resize_to_pixel(20, squared)\n",
    "        cv2.imshow(\"final\", final)\n",
    "        final_array = final.reshape((1,400))\n",
    "        final_array = final_array.astype(np.float32)\n",
    "        ret, result, neighbours, dist = knn.find_nearest(final_array, k=1)\n",
    "        number = str(int(float(result[0])))\n",
    "        full_number.append(number)\n",
    "        # draw a rectangle around the digit, the show what the\n",
    "        # digit was classified as\n",
    "        cv2.rectangle(image, (x, y), (x + w, y + h), (0, 0, 255), 2)\n",
    "        cv2.putText(image, number, (x , y + 155),\n",
    "            cv2.FONT_HERSHEY_COMPLEX, 2, (255, 0, 0), 2)\n",
    "        cv2.imshow(\"image\", image)\n",
    "        cv2.waitKey(0) \n",
    "        \n",
    "cv2.destroyAllWindows()\n",
    "print (\"The number is: \" + ''.join(full_number))"
   ]
  }
 ],
 "metadata": {
  "anaconda-cloud": {},
  "kernelspec": {
   "display_name": "Python [conda env:Anaconda_3]",
   "language": "python",
   "name": "conda-env-Anaconda_3-py"
  },
  "language_info": {
   "codemirror_mode": {
    "name": "ipython",
    "version": 3
   },
   "file_extension": ".py",
   "mimetype": "text/x-python",
   "name": "python",
   "nbconvert_exporter": "python",
   "pygments_lexer": "ipython3",
   "version": "3.5.2"
  }
 },
 "nbformat": 4,
 "nbformat_minor": 0
}
