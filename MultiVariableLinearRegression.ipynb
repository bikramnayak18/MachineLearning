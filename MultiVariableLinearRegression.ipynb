{
 "cells": [
  {
   "cell_type": "code",
   "execution_count": 89,
   "metadata": {
    "collapsed": false
   },
   "outputs": [],
   "source": [
    "import pandas as pd\n",
    "data = pd.read_excel(\"D://bikram//machine learning//MachineLearningAllMaterials//data//RegressionData2.xlsx\",)\n",
    "import matplotlib.pyplot as plt\n",
    "import numpy as np\n",
    "X = data.iloc[:,:-1].values\n",
    "y= data.iloc[:,2].values\n",
    "\n"
   ]
  },
  {
   "cell_type": "code",
   "execution_count": 90,
   "metadata": {
    "collapsed": false
   },
   "outputs": [],
   "source": [
    "def normalize(X):\n",
    "    (m,n) = X.shape\n",
    "    norm = np.zeros((m,n))\n",
    "    mean = np.zeros((1,n))\n",
    "    std = np.zeros((1,n))\n",
    "    for i in range(n):\n",
    "        norm[:,i] =( X[:,i] - np.mean(X[:,i]))/(np.max(X[:,i]) - np.min(X[:,i]))\n",
    "        mean[0,i] = np.mean(X[:,i])\n",
    "        std[0,i] = np.max(X[:,i]) - np.min(X[:,i])\n",
    "    return norm, mean, std"
   ]
  },
  {
   "cell_type": "code",
   "execution_count": 91,
   "metadata": {
    "collapsed": false
   },
   "outputs": [],
   "source": [
    "X,mean, std = normalize(X)\n"
   ]
  },
  {
   "cell_type": "code",
   "execution_count": 92,
   "metadata": {
    "collapsed": false
   },
   "outputs": [],
   "source": [
    "def computeCost(X, y, theta):\n",
    "    m,n = X.shape\n",
    "    h = np.dot(X,theta)\n",
    "    delta=0\n",
    "    for i in range(m):\n",
    "        delta += (h[i]-y[i])**2     \n",
    "    cost = 1/(2*m)*delta\n",
    "    return cost"
   ]
  },
  {
   "cell_type": "code",
   "execution_count": 93,
   "metadata": {
    "collapsed": true
   },
   "outputs": [],
   "source": [
    "def gradientDescent(X,y, theta,alpha, iteration):\n",
    "    m,n = X.shape\n",
    "    h = np.dot(X,theta)\n",
    "    delta = np.zeros((m,1))\n",
    "    cost = np.zeros((iteration,1))\n",
    "    thetaArr = np.zeros((iteration,n))\n",
    "    for i in range(iteration):\n",
    "        pred = np.dot(X,theta) \n",
    "        for j in range(m):\n",
    "            delta[j] = (pred[j]-y[j])  \n",
    "        theta = theta - (alpha /m) * np.dot(X.T,delta)\n",
    "        cost[i] = computeCost(inputX, y, theta)\n",
    "        thetaArr[i] = theta.T\n",
    "    return theta,cost,thetaArr"
   ]
  },
  {
   "cell_type": "code",
   "execution_count": 94,
   "metadata": {
    "collapsed": false
   },
   "outputs": [
    {
     "data": {
      "image/png": "[encoded data removed]",
      "text/plain": [
       "<matplotlib.figure.Figure at 0x63e2b00>"
      ]
     },
     "metadata": {},
     "output_type": "display_data"
    }
   ],
   "source": [
    "m,n = X.shape\n",
    "theta = np.zeros((n+1,1))\n",
    "ones = np.ones([m,1])\n",
    "inputX = np.concatenate((ones,X), axis=1)\n",
    "theta,cost,thetaArr = gradientDescent(inputX, y, theta, 0.01,1500)\n",
    "plt.plot(cost)\n",
    "plt.show()"
   ]
  },
  {
   "cell_type": "code",
   "execution_count": 95,
   "metadata": {
    "collapsed": false
   },
   "outputs": [
    {
     "data": {
      "text/plain": [
       "(array([[ 340412.56301439],\n",
       "        [ 233166.30458576],\n",
       "        [  81960.74883517]]),\n",
       " array([[ 2000.68085106,     3.17021277]]),\n",
       " array([[ 3626.,     4.]]))"
      ]
     },
     "execution_count": 95,
     "metadata": {},
     "output_type": "execute_result"
    }
   ],
   "source": [
    "theta, mean, std"
   ]
  },
  {
   "cell_type": "code",
   "execution_count": 137,
   "metadata": {
    "collapsed": false
   },
   "outputs": [
    {
     "data": {
      "text/plain": [
       "(1, 3)"
      ]
     },
     "execution_count": 137,
     "metadata": {},
     "output_type": "execute_result"
    }
   ],
   "source": [
    "inputX =np.array( [[ 1,1650, 3]])\n",
    "inputX.shape"
   ]
  },
  {
   "cell_type": "code",
   "execution_count": 138,
   "metadata": {
    "collapsed": false
   },
   "outputs": [],
   "source": [
    "inputX[:,1] = (inputX[:,1] - mean[:,0])/ std[:,0]"
   ]
  },
  {
   "cell_type": "code",
   "execution_count": 139,
   "metadata": {
    "collapsed": false
   },
   "outputs": [],
   "source": [
    " inputX[:,2] = (inputX[:,2] - mean[:,1])/ std[:,1]"
   ]
  },
  {
   "cell_type": "code",
   "execution_count": 121,
   "metadata": {
    "collapsed": false
   },
   "outputs": [
    {
     "data": {
      "text/plain": [
       "array([[1, 0, 0]])"
      ]
     },
     "execution_count": 121,
     "metadata": {},
     "output_type": "execute_result"
    }
   ],
   "source": [
    "inputX\n"
   ]
  },
  {
   "cell_type": "code",
   "execution_count": 125,
   "metadata": {
    "collapsed": false
   },
   "outputs": [
    {
     "data": {
      "text/plain": [
       "array([[ 340412.56301439]])"
      ]
     },
     "execution_count": 125,
     "metadata": {},
     "output_type": "execute_result"
    }
   ],
   "source": [
    "np.dot(inputX,theta)\n"
   ]
  },
  {
   "cell_type": "code",
   "execution_count": 133,
   "metadata": {
    "collapsed": true
   },
   "outputs": [],
   "source": [
    "##Normal Equation\n",
    "m,n = X.shape\n",
    "thetaNorm = np.zeros((n+1,1))\n",
    "ones = np.ones([m,1])\n",
    "inputX = np.concatenate((ones,X), axis=1)\n",
    "thetaNorm =np.dot(np.linalg.inv(np.dot(inputX.T,inputX)) , (np.dot(inputX.T,y)))"
   ]
  },
  {
   "cell_type": "code",
   "execution_count": 135,
   "metadata": {
    "collapsed": false
   },
   "outputs": [
    {
     "data": {
      "text/plain": [
       "array([ 340412.65957447,  504777.90398791,  -34952.07644931])"
      ]
     },
     "execution_count": 135,
     "metadata": {},
     "output_type": "execute_result"
    }
   ],
   "source": [
    "thetaNorm"
   ]
  },
  {
   "cell_type": "code",
   "execution_count": 140,
   "metadata": {
    "collapsed": false
   },
   "outputs": [
    {
     "data": {
      "text/plain": [
       "array([ 340412.65957447])"
      ]
     },
     "execution_count": 140,
     "metadata": {},
     "output_type": "execute_result"
    }
   ],
   "source": [
    "np.dot(inputX,thetaNorm)"
   ]
  },
  {
   "cell_type": "code",
   "execution_count": 142,
   "metadata": {
    "collapsed": false
   },
   "outputs": [
    {
     "data": {
      "text/plain": [
       "array([[ 340412.56301439],\n",
       "       [ 233166.30458576],\n",
       "       [  81960.74883517]])"
      ]
     },
     "execution_count": 142,
     "metadata": {},
     "output_type": "execute_result"
    }
   ],
   "source": [
    "inputX\n",
    "theta"
   ]
  }
 ],
 "metadata": {
  "anaconda-cloud": {},
  "kernelspec": {
   "display_name": "Python [default]",
   "language": "python",
   "name": "python3"
  },
  "language_info": {
   "codemirror_mode": {
    "name": "ipython",
    "version": 3
   },
   "file_extension": ".py",
   "mimetype": "text/x-python",
   "name": "python",
   "nbconvert_exporter": "python",
   "pygments_lexer": "ipython3",
   "version": "3.5.2"
  }
 },
 "nbformat": 4,
 "nbformat_minor": 1
}
